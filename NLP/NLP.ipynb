{
 "cells": [
  {
   "attachments": {},
   "cell_type": "markdown",
   "metadata": {},
   "source": [
    "## NLP"
   ]
  },
  {
   "attachments": {},
   "cell_type": "markdown",
   "metadata": {},
   "source": [
    "## Regular Expressions\n",
    "Regular expression is a set of characters, called as the pattern, which helps in finding substrings in a given string. The pattern is used to detect the substrings\n",
    "\n",
    "For example, suppose you have a dataset of customer reviews about your restaurant. Say, you want to extract the emojis from the reviews because they are a good predictor os the sentiment of the review.\n",
    "\n",
    "Take another example, the artificial assistants such as Siri, Google Now use information retrieval to give you better results. When you ask them for any query or ask them to search for something interesting on the screen, they look for common patterns such as emails, phone numbers, place names, date and time and so on. This is because then the assitant can automatically make a booking or ask you to call the resturant to make a booking.\n",
    "\n",
    "Regular expressions are very powerful tool in text processing. It will help you to clean and handle your text in a much better way."
   ]
  },
  {
   "cell_type": "markdown",
   "metadata": {},
   "source": [
    "### Let's import the regular expression library in python."
   ]
  },
  {
   "cell_type": "code",
   "execution_count": 1,
   "metadata": {},
   "outputs": [],
   "source": [
    "import re"
   ]
  },
  {
   "cell_type": "code",
   "execution_count": 6,
   "metadata": {},
   "outputs": [
    {
     "name": "stdout",
     "output_type": "stream",
     "text": [
      "Default string:  ₹50 \n",
      " Type of string <class 'str'> \n",
      "\n",
      "Encoded to UTF-8:  b'\\xe2\\x82\\xb950' \n",
      " Type of string <class 'bytes'> \n",
      "\n",
      "Decoded from UTF-8:  ₹50 \n",
      " Type of string <class 'str'> \n",
      "\n"
     ]
    }
   ],
   "source": [
    "# For Encoding and Decoding\n",
    "# create a string\n",
    "amount = u\"₹50\"\n",
    "print('Default string: ', amount, '\\n', 'Type of string', type(amount), '\\n')\n",
    "\n",
    "# encode to UTF-8 byte format\n",
    "amount_encoded = amount.encode('utf-8')\n",
    "print('Encoded to UTF-8: ', amount_encoded, '\\n', 'Type of string', type(amount_encoded), '\\n')\n",
    "\n",
    "\n",
    "# sometime later in another computer...\n",
    "# decode from UTF-8 byte format\n",
    "amount_decoded = amount_encoded.decode('utf-8')\n",
    "print('Decoded from UTF-8: ', amount_decoded, '\\n', 'Type of string', type(amount_decoded), '\\n')"
   ]
  },
  {
   "cell_type": "code",
   "execution_count": 16,
   "metadata": {},
   "outputs": [
    {
     "name": "stdout",
     "output_type": "stream",
     "text": [
      "True\n",
      "13\n",
      "22\n"
     ]
    }
   ],
   "source": [
    "# import the regular expression module\n",
    "import re\n",
    "string = \"The roots of education are bitter, but the fruit is sweet.\"\n",
    "pattern = \"education\"\n",
    "result = re.search(pattern,string)\n",
    "\n",
    "if result != None:\n",
    "    print(True)\n",
    "else:\n",
    "    print(False)\n",
    " \n",
    " # store the start of the match using result.start()   \n",
    "start_position = result.start()\n",
    "print(start_position)\n",
    "# store the end of the match using result.end()\n",
    "end_position = result.end()\n",
    "print(end_position)"
   ]
  },
  {
   "cell_type": "code",
   "execution_count": 28,
   "metadata": {},
   "outputs": [
    {
     "name": "stdout",
     "output_type": "stream",
     "text": [
      "True\n"
     ]
    }
   ],
   "source": [
    "import re\n",
    "string = \"I saw three trees.\"\n",
    "pattern = \"trees?\"\n",
    "result = re.search(pattern,string)\n",
    "if result != None:\n",
    "    print(True)\n",
    "else:\n",
    "    print(False)"
   ]
  },
  {
   "cell_type": "code",
   "execution_count": 25,
   "metadata": {},
   "outputs": [
    {
     "name": "stdout",
     "output_type": "stream",
     "text": [
      "True\n"
     ]
    }
   ],
   "source": [
    "import re\n",
    "string = \"1010000\"\n",
    "#string = \"I saw three trees.\"\n",
    "pattern = \"10101*\"\n",
    "result = re.search(pattern,string)\n",
    "if result != None:\n",
    "    print(True)\n",
    "else:\n",
    "    print(False)"
   ]
  },
  {
   "cell_type": "code",
   "execution_count": 40,
   "metadata": {},
   "outputs": [
    {
     "name": "stdout",
     "output_type": "stream",
     "text": [
      "True\n"
     ]
    }
   ],
   "source": [
    "import re\n",
    "string = \"acghbhacdfe\"\n",
    "pattern = \"fe+\"\n",
    "result = re.search(pattern,string)\n",
    "if result != None:\n",
    "    print(True)\n",
    "else:\n",
    "    print(False)\n",
    "    "
   ]
  },
  {
   "attachments": {},
   "cell_type": "markdown",
   "metadata": {},
   "source": [
    "- ?': Optional preceding character\n",
    "- '*': Match preceding character zero or more times\n",
    "- '+': Match preceding character one or more times (i.e. at least once)"
   ]
  },
  {
   "cell_type": "code",
   "execution_count": 42,
   "metadata": {},
   "outputs": [
    {
     "name": "stdout",
     "output_type": "stream",
     "text": [
      "True\n"
     ]
    }
   ],
   "source": [
    "string = \"hurray\"\n",
    "pattern = \"r{2,5}\"\n",
    "result = re.search(pattern,string)\n",
    "if result != None:\n",
    "    print(True)\n",
    "else:\n",
    "    print(False)"
   ]
  },
  {
   "cell_type": "code",
   "execution_count": 45,
   "metadata": {},
   "outputs": [
    {
     "name": "stdout",
     "output_type": "stream",
     "text": [
      "True\n"
     ]
    }
   ],
   "source": [
    "string = \"empireeeeee\"\n",
    "pattern = \"e{3,9}\"\n",
    "result = re.search(pattern,string)\n",
    "if result != None:\n",
    "    print(True)\n",
    "else:\n",
    "    print(False)"
   ]
  },
  {
   "cell_type": "code",
   "execution_count": 50,
   "metadata": {},
   "outputs": [
    {
     "name": "stdout",
     "output_type": "stream",
     "text": [
      "True\n"
     ]
    }
   ],
   "source": [
    "string = \"0001\"\n",
    "pattern = \"0{3,}1+\"\n",
    "result = re.search(pattern,string)\n",
    "if result != None:\n",
    "    print(True)\n",
    "else:\n",
    "    print(False)"
   ]
  },
  {
   "cell_type": "code",
   "execution_count": 54,
   "metadata": {},
   "outputs": [
    {
     "name": "stdout",
     "output_type": "stream",
     "text": [
      "False\n"
     ]
    }
   ],
   "source": [
    "import re\n",
    "string = \"2323233787878\"\n",
    "#pattern = \"(23){1,}(78){1,}\"\n",
    "pattern = \"(23)+(78)+\"\n",
    "result = re.search(pattern,string)\n",
    "if result != None:\n",
    "    print(True)\n",
    "else:\n",
    "    print(False)"
   ]
  },
  {
   "cell_type": "code",
   "execution_count": 60,
   "metadata": {},
   "outputs": [
    {
     "name": "stdout",
     "output_type": "stream",
     "text": [
      "False\n"
     ]
    }
   ],
   "source": [
    "import re\n",
    "string = \"CricketBall\"\n",
    "#string=\"Cricketball\"\n",
    "pattern = \"(Basket|Base|Volley|Soft|Foot|Cricket)ball\"\n",
    "result = re.search(pattern,string)\n",
    "if result != None:\n",
    "    print(True)\n",
    "else:\n",
    "    print(False)"
   ]
  },
  {
   "cell_type": "code",
   "execution_count": 67,
   "metadata": {},
   "outputs": [
    {
     "name": "stdout",
     "output_type": "stream",
     "text": [
      "True\n"
     ]
    }
   ],
   "source": [
    "import re\n",
    "string=\"11*2\"\n",
    "pattern=\"\\*\"\n",
    "result=re.search(pattern,string)\n",
    "if result != None:\n",
    "    print(True)\n",
    "else:\n",
    "    print(False)"
   ]
  },
  {
   "cell_type": "code",
   "execution_count": 69,
   "metadata": {},
   "outputs": [],
   "source": [
    "result = re.search(pattern,string,flags=re.I|re.M)"
   ]
  },
  {
   "cell_type": "code",
   "execution_count": 75,
   "metadata": {},
   "outputs": [
    {
     "name": "stdout",
     "output_type": "stream",
     "text": [
      "True\n"
     ]
    }
   ],
   "source": [
    "# without re.compile() function\n",
    "result = re.search(\"a+\", \"abc\")\n",
    "\n",
    "\n",
    "if result != None:\n",
    "    print(True)\n",
    "else:\n",
    "    print(False)"
   ]
  },
  {
   "cell_type": "code",
   "execution_count": 76,
   "metadata": {},
   "outputs": [
    {
     "name": "stdout",
     "output_type": "stream",
     "text": [
      "True\n"
     ]
    }
   ],
   "source": [
    "# using the re.compile() function\n",
    "pattern = re.compile(\"a+\")\n",
    "result = pattern.search(\"abc\")\n",
    "\n",
    "if result != None:\n",
    "    print(True)\n",
    "else:\n",
    "    print(False)"
   ]
  },
  {
   "cell_type": "code",
   "execution_count": 83,
   "metadata": {},
   "outputs": [
    {
     "name": "stdout",
     "output_type": "stream",
     "text": [
      "True\n"
     ]
    }
   ],
   "source": [
    "import re\n",
    "#string=\"Ram\"\n",
    "string=\"aRam\"\n",
    "pattern=\"^A\"\n",
    "result=re.search(pattern,string, flags=re.I)\n",
    "#result=re.search(pattern,string)\n",
    "if result != None:\n",
    "    print(True)\n",
    "else:\n",
    "    print(False)"
   ]
  },
  {
   "cell_type": "code",
   "execution_count": 86,
   "metadata": {},
   "outputs": [
    {
     "name": "stdout",
     "output_type": "stream",
     "text": [
      "False\n"
     ]
    }
   ],
   "source": [
    "import re\n",
    "string=\"machine\"\n",
    "pattern=\"ing$\"\n",
    "result=re.search(pattern,string)\n",
    "if result != None:\n",
    "    print(True)\n",
    "else:\n",
    "    print(False)"
   ]
  },
  {
   "cell_type": "code",
   "execution_count": 88,
   "metadata": {},
   "outputs": [
    {
     "name": "stdout",
     "output_type": "stream",
     "text": [
      "False\n"
     ]
    }
   ],
   "source": [
    "import re\n",
    "string=\"00001100011111\"\n",
    "#pattern=\"^1*0{3,}1{0,}0{1,7}1{2,3}$\"\n",
    "pattern=\"^1+0{3,}1*0{1,7}1{2,3}$\"\n",
    "result=re.search(pattern,string)\n",
    "if result != None:\n",
    "    print(True)\n",
    "else:\n",
    "    print(False)"
   ]
  },
  {
   "cell_type": "code",
   "execution_count": 102,
   "metadata": {},
   "outputs": [
    {
     "name": "stdout",
     "output_type": "stream",
     "text": [
      "False\n"
     ]
    }
   ],
   "source": [
    "import re\n",
    "string=\"Balasubrahmanyam\"\n",
    "pattern=\"^.{3,15}$\"\n",
    "result=re.search(pattern,string)\n",
    "if result != None:\n",
    "    print(True)\n",
    "else:\n",
    "    print(False)"
   ]
  },
  {
   "cell_type": "code",
   "execution_count": 107,
   "metadata": {},
   "outputs": [
    {
     "name": "stdout",
     "output_type": "stream",
     "text": [
      "True\n"
     ]
    }
   ],
   "source": [
    "import re\n",
    "string=\"fired\"\n",
    "#string=\"red\"\n",
    "pattern=\"[a-z]+ed\"\n",
    "#pattern=\"[a-z]ed\"\n",
    "result=re.search(pattern,string)\n",
    "if result != None:\n",
    "    print(True)\n",
    "else:\n",
    "    print(False)"
   ]
  },
  {
   "cell_type": "code",
   "execution_count": 120,
   "metadata": {},
   "outputs": [
    {
     "name": "stdout",
     "output_type": "stream",
     "text": [
      "False\n"
     ]
    }
   ],
   "source": [
    "import re\n",
    "string=\"abc\"\n",
    "pattern=\"[^abc]\"\n",
    "result=re.search(pattern,string)\n",
    "if result != None:\n",
    "    print(True)\n",
    "else:\n",
    "    print(False)"
   ]
  },
  {
   "cell_type": "code",
   "execution_count": 127,
   "metadata": {},
   "outputs": [
    {
     "name": "stdout",
     "output_type": "stream",
     "text": [
      "True\n"
     ]
    }
   ],
   "source": [
    "import re\n",
    "string=\"sameer7282\"\n",
    "pattern=\"^[A-Z]{1,10}[\\d]{4}\"\n",
    "result=re.search(pattern,string, re.I)\n",
    "if result != None:\n",
    "    print(True)\n",
    "else:\n",
    "    print(False)"
   ]
  },
  {
   "cell_type": "code",
   "execution_count": 131,
   "metadata": {},
   "outputs": [
    {
     "name": "stdout",
     "output_type": "stream",
     "text": [
      "True\n"
     ]
    }
   ],
   "source": [
    "import re\n",
    "string=\"<html><head><title> My amazing webpage </title></head><body> Welcome to my webpage! </body></html>\"\n",
    "pattern=\"<.*?>\"\n",
    "result=re.search(pattern,string, re.M)\n",
    "if result != None:\n",
    "    print(True)\n",
    "else:\n",
    "    print(False)"
   ]
  },
  {
   "cell_type": "code",
   "execution_count": 130,
   "metadata": {},
   "outputs": [
    {
     "data": {
      "text/plain": [
       "'My address is XXB, Baker Street'"
      ]
     },
     "execution_count": 130,
     "metadata": {},
     "output_type": "execute_result"
    }
   ],
   "source": [
    "pattern = \"\\d\"\n",
    "replacement = \"X\"\n",
    "string = \"My address is 13B, Baker Street\"\n",
    "\n",
    "re.sub(pattern, replacement, string)"
   ]
  },
  {
   "cell_type": "code",
   "execution_count": 134,
   "metadata": {},
   "outputs": [
    {
     "name": "stdout",
     "output_type": "stream",
     "text": [
      "True\n"
     ]
    }
   ],
   "source": [
    "import re\n",
    "string=\"You can reach us at 07400029954 or 02261562153\"\n",
    "pattern=\"\\d\"\n",
    "replacement = \"####\"\n",
    "result=re.sub(pattern,replacement,string)\n",
    "\n",
    "if (re.search(replacement,result)) != None:\n",
    "    print(True)\n",
    "else:\n",
    "    print(False)"
   ]
  },
  {
   "cell_type": "code",
   "execution_count": 135,
   "metadata": {},
   "outputs": [
    {
     "name": "stdout",
     "output_type": "stream",
     "text": [
      "True\n"
     ]
    }
   ],
   "source": [
    "import re\n",
    "string = \"Building careers of tomorrow\"\n",
    "pattern = \"^[A-z]\"\n",
    "replacement = \"$\"\n",
    "result = re.sub(pattern,replacement,string)\n",
    "print(result[0] == '$')"
   ]
  },
  {
   "cell_type": "code",
   "execution_count": 1,
   "metadata": {},
   "outputs": [
    {
     "name": "stdout",
     "output_type": "stream",
     "text": [
      "0\n"
     ]
    }
   ],
   "source": [
    "import re\n",
    "string = \"Playing outdoor games when its raining outside is always fun!\"\n",
    "\n",
    "\n",
    "pattern = \"r'\\b(\\w+ing)\\b'\" # write regex to extract words ending with 'ing'\n",
    "\n",
    "# store results in the list 'result'\n",
    "result = re.findall(pattern,string) # extract words having the required pattern, using the findall function\n",
    "\n",
    "# evaluate result - don't change the following piece of code, it is used to evaluate your regex\n",
    "print(len(result))"
   ]
  },
  {
   "attachments": {},
   "cell_type": "markdown",
   "metadata": {},
   "source": [
    "### Grouping"
   ]
  },
  {
   "cell_type": "code",
   "execution_count": null,
   "metadata": {},
   "outputs": [],
   "source": [
    "import re\n",
    "string = \"\"\n",
    "pattern = \"\"\n",
    "result = \"\""
   ]
  },
  {
   "cell_type": "code",
   "execution_count": 2,
   "metadata": {},
   "outputs": [
    {
     "name": "stdout",
     "output_type": "stream",
     "text": [
      "01-06-2018\n"
     ]
    }
   ],
   "source": [
    "import re\n",
    "string = \"Today's date is 01-06-2018\"\n",
    "pattern = \"\\d{1,2}-\\d{1,2}-\\d{4}\"\n",
    "result = re.search(pattern,string)\n",
    "\n",
    "if result != None:\n",
    "    print(result.group(0))\n",
    "else:\n",
    "    print(False)"
   ]
  },
  {
   "cell_type": "code",
   "execution_count": 3,
   "metadata": {},
   "outputs": [
    {
     "name": "stdout",
     "output_type": "stream",
     "text": [
      "06\n"
     ]
    }
   ],
   "source": [
    "import re\n",
    "string = \"Today's date is 01-06-2018\"\n",
    "pattern = \"(\\d{1,2})-(\\d{1,2})-(\\d{4})\"\n",
    "result = re.search(pattern,string)\n",
    "\n",
    "if result != None:\n",
    "    month = result.group(2)\n",
    "else:\n",
    "    month = \"NA\"\n",
    "    \n",
    "print(month)"
   ]
  },
  {
   "cell_type": "code",
   "execution_count": 5,
   "metadata": {},
   "outputs": [
    {
     "name": "stdout",
     "output_type": "stream",
     "text": [
      "gmail.com\n"
     ]
    }
   ],
   "source": [
    "import re\n",
    "string = \"user_name_123@gmail.com\"\n",
    "pattern = \"(\\w{1,})@((\\w{1,}).(\\w{1,}))\"\n",
    "result = re.search(pattern,string)\n",
    "\n",
    "if result != None:\n",
    "    domain = result.group(2)\n",
    "else:\n",
    "    domain = \"NA\"\n",
    "    \n",
    "print(domain)\n"
   ]
  },
  {
   "cell_type": "code",
   "execution_count": 6,
   "metadata": {},
   "outputs": [
    {
     "name": "stdout",
     "output_type": "stream",
     "text": [
      "['image001.jpg', 'image002.jpg', 'image005.jpg', 'wallpaper.jpg', 'flower.jpg', 'earth.jpg', 'monkey.jpg']\n"
     ]
    }
   ],
   "source": [
    "# items contains all the files and folders of current directory\n",
    "items = ['photos', 'documents', 'videos', 'image001.jpg','image002.jpg','image005.jpg', 'wallpaper.jpg',\n",
    "         'flower.jpg', 'earth.jpg', 'monkey.jpg', 'image002.png']\n",
    "\n",
    "# create an empty list to store resultant files\n",
    "images = []\n",
    "\n",
    "# regex pattern to extract files that end with '.jpg'\n",
    "pattern = \".*\\.jpg$\"\n",
    "\n",
    "for item in items:\n",
    "    if re.search(pattern, item):\n",
    "        images.append(item)\n",
    "\n",
    "# print result\n",
    "print(images)"
   ]
  },
  {
   "cell_type": "code",
   "execution_count": 7,
   "metadata": {},
   "outputs": [
    {
     "name": "stdout",
     "output_type": "stream",
     "text": [
      "['image001.jpg', 'image002.jpg', 'image005.jpg']\n"
     ]
    }
   ],
   "source": [
    "# items contains all the files and folders of current directory\n",
    "items = ['photos', 'documents', 'videos', 'image001.jpg','image002.jpg','image005.jpg', 'wallpaper.jpg',\n",
    "         'flower.jpg', 'earth.jpg', 'monkey.jpg', 'image002.png']\n",
    "\n",
    "# create an empty list to store resultant files\n",
    "images = []\n",
    "\n",
    "# regex pattern to extract files that start with 'image' and end with '.jpg'\n",
    "pattern = \"image.*\\.jpg$\"\n",
    "\n",
    "for item in items:\n",
    "    if re.search(pattern, item):\n",
    "        images.append(item)\n",
    "\n",
    "# print result\n",
    "print(images)"
   ]
  },
  {
   "attachments": {},
   "cell_type": "markdown",
   "metadata": {},
   "source": [
    "# Tokenization"
   ]
  },
  {
   "cell_type": "code",
   "execution_count": 8,
   "metadata": {},
   "outputs": [],
   "source": [
    "import nltk"
   ]
  },
  {
   "cell_type": "code",
   "execution_count": null,
   "metadata": {},
   "outputs": [],
   "source": [
    "from nltk.tokenize import word_tokenize\n",
    "sentence = \"I love pasta\"\n",
    "words = word_tokenize(sentence)\n",
    "print(len(words))"
   ]
  },
  {
   "cell_type": "code",
   "execution_count": null,
   "metadata": {},
   "outputs": [],
   "source": [
    "from nltk.tokenize import word_tokenize\n",
    "from nltk.corpus import stopwords\n",
    "sentence = \"Education is the most powerful weapon that you can use to change the world\"\n",
    "words = word_tokenize(sentence)\n",
    "stopwords = set(stopwords.words('english'))\n",
    "no_stops = [t for t in words if t not in stopwords]\n",
    "print(len(no_stops))"
   ]
  },
  {
   "cell_type": "code",
   "execution_count": null,
   "metadata": {},
   "outputs": [],
   "source": [
    "from nltk.tokenize import sent_tokenize\n",
    "from nltk.corpus import stopwords\n",
    "text = \"Develop a passion for your learning. If you do, you'll never cease to grow.\"\n",
    "text = text.lower()\n",
    "sentences = sent_tokenize(text)\n",
    "print(len(sentences))"
   ]
  },
  {
   "cell_type": "code",
   "execution_count": null,
   "metadata": {},
   "outputs": [],
   "source": [
    "from nltk.tokenize import regexp_tokenize\n",
    "from nltk.corpus import stopwords\n",
    "text = \"So excited to be a part of machine learning and artificial intelligence program made by @upgrad and @iiitb\"\n",
    "text = text.lower()\n",
    "pattern = \"@[\\w]+\"\n",
    "mentions = regexp_tokenize(text,pattern)\n",
    "print(len(mentions))"
   ]
  },
  {
   "cell_type": "code",
   "execution_count": 15,
   "metadata": {},
   "outputs": [
    {
     "name": "stdout",
     "output_type": "stream",
     "text": [
      "23\n"
     ]
    }
   ],
   "source": [
    "documents = \"there was one place on my ankle that was itching but we did not scratch it and then my ear began to itch and next my back\"\n",
    "doc = set(documents.split())\n",
    "print(len(doc))"
   ]
  },
  {
   "cell_type": "code",
   "execution_count": null,
   "metadata": {},
   "outputs": [],
   "source": []
  }
 ],
 "metadata": {
  "kernelspec": {
   "display_name": "Python 3",
   "language": "python",
   "name": "python3"
  },
  "language_info": {
   "codemirror_mode": {
    "name": "ipython",
    "version": 3
   },
   "file_extension": ".py",
   "mimetype": "text/x-python",
   "name": "python",
   "nbconvert_exporter": "python",
   "pygments_lexer": "ipython3",
   "version": "3.10.2 (tags/v3.10.2:a58ebcc, Jan 17 2022, 14:12:15) [MSC v.1929 64 bit (AMD64)]"
  },
  "orig_nbformat": 4,
  "vscode": {
   "interpreter": {
    "hash": "26de051ba29f2982a8de78e945f0abaf191376122a1563185a90213a26c5da77"
   }
  }
 },
 "nbformat": 4,
 "nbformat_minor": 2
}
